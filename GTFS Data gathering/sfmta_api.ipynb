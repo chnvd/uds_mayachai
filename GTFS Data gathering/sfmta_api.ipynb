{
 "cells": [
  {
   "cell_type": "markdown",
   "id": "53bd93b9-f2df-4147-8051-cd331c84320f",
   "metadata": {},
   "source": [
    "# API: Downloading GTFS data from SFMTA"
   ]
  },
  {
   "cell_type": "code",
   "execution_count": 1,
   "id": "5edec153-cb05-4fb2-b901-be680001f780",
   "metadata": {},
   "outputs": [],
   "source": [
    "import json\n",
    "import pandas as pd\n",
    "import requests\n",
    "APIkey = '2c3d5ba7-41b8-4fce-a388-2f2396ae3c19'  # the key posted on BART's website\n",
    "\n",
    "requestString = 'http://api.511.org/transit/gtfsoperators?api_key={}'.format(APIkey)  # replace 999 with your code here\n",
    "r = requests.get(requestString)\n",
    "decoded_data=r.text.encode().decode('utf-8-sig') \n",
    "d = json.loads(decoded_data)\n",
    "# r.text\n",
    "# d = json.dumps(json.loads(r.text), encoding=\"utf-8-sig\", indent=4)\n",
    "\n",
    "stationdf = pd.DataFrame(d)\n"
   ]
  },
  {
   "cell_type": "code",
   "execution_count": 2,
   "id": "c5dce8de-cabb-45c9-aa72-5439ad5a7b7e",
   "metadata": {},
   "outputs": [
    {
     "data": {
      "text/html": [
       "<div>\n",
       "<style scoped>\n",
       "    .dataframe tbody tr th:only-of-type {\n",
       "        vertical-align: middle;\n",
       "    }\n",
       "\n",
       "    .dataframe tbody tr th {\n",
       "        vertical-align: top;\n",
       "    }\n",
       "\n",
       "    .dataframe thead th {\n",
       "        text-align: right;\n",
       "    }\n",
       "</style>\n",
       "<table border=\"1\" class=\"dataframe\">\n",
       "  <thead>\n",
       "    <tr style=\"text-align: right;\">\n",
       "      <th></th>\n",
       "      <th>Id</th>\n",
       "      <th>Name</th>\n",
       "      <th>LastGenerated</th>\n",
       "    </tr>\n",
       "  </thead>\n",
       "  <tbody>\n",
       "    <tr>\n",
       "      <th>23</th>\n",
       "      <td>SF</td>\n",
       "      <td>San Francisco Municipal Transportation Agency</td>\n",
       "      <td>5/6/2023 1:15:05 PM</td>\n",
       "    </tr>\n",
       "  </tbody>\n",
       "</table>\n",
       "</div>"
      ],
      "text/plain": [
       "    Id                                           Name        LastGenerated\n",
       "23  SF  San Francisco Municipal Transportation Agency  5/6/2023 1:15:05 PM"
      ]
     },
     "execution_count": 2,
     "metadata": {},
     "output_type": "execute_result"
    }
   ],
   "source": [
    "stationdf[23:24]"
   ]
  },
  {
   "cell_type": "code",
   "execution_count": 5,
   "id": "d589d976-bb24-4ecf-8dd3-cbca95008b00",
   "metadata": {},
   "outputs": [
    {
     "data": {
      "text/plain": [
       "'\"No Data Found\"'"
      ]
     },
     "execution_count": 5,
     "metadata": {},
     "output_type": "execute_result"
    }
   ],
   "source": [
    "\n",
    "requestString2 = 'http://api.511.org/transit/vehiclepositions?format=Accept&agency=SF&api_key={}'.format(APIkey)  # replace 999 with your code here\n",
    "r2 = requests.get(requestString2 )\n",
    "decoded_data=r2.text.encode().decode('utf-8-sig') \n",
    "# d = json.loads(r.text)\n",
    "decoded_data\n",
    "# d = json.dumps(json.loads(r.text), encoding=\"utf-8-sig\", indent=4)\n",
    "\n",
    "# stationdf = pd.DataFrame(d)"
   ]
  },
  {
   "cell_type": "code",
   "execution_count": null,
   "id": "d749fd30-847d-4166-bf8f-ad96a00ab9a3",
   "metadata": {},
   "outputs": [],
   "source": [
    "decoded_data=r.text.encode().decode('utf-8-sig') \n",
    "# d = json.loads(r.text)\n",
    "decoded_data"
   ]
  },
  {
   "cell_type": "code",
   "execution_count": null,
   "id": "dac405b5-732d-4249-ad6f-191418e6e9d9",
   "metadata": {},
   "outputs": [],
   "source": [
    "r.text"
   ]
  },
  {
   "cell_type": "code",
   "execution_count": null,
   "id": "384d1dec-4da4-46b8-b3c2-e87491f4f882",
   "metadata": {},
   "outputs": [],
   "source": [
    "# !pip install gtfs_functions\n",
    "\n",
    "# Import package\n",
    "from gtfs_functions import Feed, map_gdf\n"
   ]
  },
  {
   "cell_type": "code",
   "execution_count": null,
   "id": "954bee79-33d7-4c3b-97cf-8c916a2e9879",
   "metadata": {},
   "outputs": [],
   "source": [
    "feed = Feed(\"gtfs\", time_windows=[0, 6, 9, 15, 19, 22, 24])\n",
    "\n",
    "routes = feed.routes\n",
    "trips = feed.trips\n",
    "stops = feed.stops\n",
    "stop_times = feed.stop_times\n",
    "shapes = feed.shapes\n"
   ]
  },
  {
   "cell_type": "code",
   "execution_count": null,
   "id": "806c03aa-1449-4e58-b834-3b85b34c1b1f",
   "metadata": {},
   "outputs": [],
   "source": []
  }
 ],
 "metadata": {
  "kernelspec": {
   "display_name": "Python 3 (ipykernel)",
   "language": "python",
   "name": "python3"
  },
  "language_info": {
   "codemirror_mode": {
    "name": "ipython",
    "version": 3
   },
   "file_extension": ".py",
   "mimetype": "text/x-python",
   "name": "python",
   "nbconvert_exporter": "python",
   "pygments_lexer": "ipython3",
   "version": "3.10.10"
  }
 },
 "nbformat": 4,
 "nbformat_minor": 5
}
