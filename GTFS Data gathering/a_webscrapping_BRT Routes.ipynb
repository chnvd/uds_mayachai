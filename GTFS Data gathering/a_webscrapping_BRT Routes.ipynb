{
 "cells": [
  {
   "cell_type": "markdown",
   "id": "5e9b4cd8-d437-4e12-847f-ad7fce89ef2e",
   "metadata": {},
   "source": [
    "# Webscrapping BRT Routes \n",
    "\n",
    "### BRT routes for SF\n",
    "Does not work"
   ]
  },
  {
   "cell_type": "code",
   "execution_count": 1,
   "id": "9ed2f04e-2f4d-424b-9447-7b211fc8bab6",
   "metadata": {},
   "outputs": [],
   "source": [
    "import pandas as pd\n",
    "import geopandas as gpd\n",
    "import requests\n",
    "import json\n",
    "from IPython.display import display \n",
    "from bs4 import BeautifulSoup\n",
    "#pip install selenium\n",
    "\n",
    "# for working with the itneractive website.\n",
    "#I was not able to use requests to load the url like in the craigslist example because the page was interactive.\n",
    "#I searched and learned that selenium allows you to load, click and itneract with websites that don't directly display all the content\n",
    "from selenium import webdriver\n",
    "from selenium.webdriver.chrome.service import Service\n",
    "from selenium.webdriver.common.by import By\n",
    "from selenium.webdriver.support.ui import WebDriverWait\n",
    "from selenium.webdriver.support import expected_conditions as EC\n",
    "import time"
   ]
  },
  {
   "cell_type": "code",
   "execution_count": 13,
   "id": "e7d7e327-4874-4970-bae8-93e35d3b19fb",
   "metadata": {},
   "outputs": [],
   "source": [
    "driver.close()"
   ]
  },
  {
   "cell_type": "code",
   "execution_count": 3,
   "id": "daca5cec-90c4-43be-8bed-f75db5f0b00a",
   "metadata": {},
   "outputs": [],
   "source": [
    "#leading the website on the automated test mode. \n",
    "driver = webdriver.Safari()\n",
    "url = \"https://sfgov.maps.arcgis.com/apps/mapviewer/index.html?webmap=b8b3a13ed26c4cb1aa10544ade0ea6a2\"\n",
    "driver.get(url) "
   ]
  },
  {
   "cell_type": "code",
   "execution_count": 4,
   "id": "436f55a6-3fb6-4bea-86d7-1d61126e3330",
   "metadata": {},
   "outputs": [
    {
     "name": "stderr",
     "output_type": "stream",
     "text": [
      "/var/folders/cx/5hr478816plb9gd8v3v207d40000gn/T/ipykernel_4643/2490603429.py:4: DeprecationWarning: headless property is deprecated, instead use add_argument('--headless') or add_argument('--headless=new')\n",
      "  options.headless = False  # Set to False if you want to see the browser window\n"
     ]
    }
   ],
   "source": [
    "# url = \"https://sfgov.maps.arcgis.com/apps/mapviewer/index.html?webmap=b8b3a13ed26c4cb1aa10544ade0ea6a2\"\n",
    "\n",
    "# options = webdriver.ChromeOptions()\n",
    "# options.headless = False  # Set to False if you want to see the browser window\n",
    "# driver = webdriver.Chrome(options=options)\n",
    "# driver.get(url)\n",
    "\n"
   ]
  },
  {
   "cell_type": "code",
   "execution_count": 4,
   "id": "f08fac72-e2e0-45ea-89e5-1c2b33ef9e56",
   "metadata": {},
   "outputs": [],
   "source": [
    "#better way to do it, this code makes you wait for each element to load, and then clicks on it. \n",
    "wait = WebDriverWait(driver, 10)\n",
    "layers_button = wait.until(EC.element_to_be_clickable((By.CSS_SELECTOR, 'calcite-action#layers')))\n",
    "layers_button.click()\n",
    "# Now we have located the layer list item"
   ]
  },
  {
   "cell_type": "code",
   "execution_count": 5,
   "id": "e99cb167-7999-4199-8a96-adec9eecee09",
   "metadata": {},
   "outputs": [
    {
     "ename": "WebDriverException",
     "evalue": "Message: \n",
     "output_type": "error",
     "traceback": [
      "\u001b[0;31m---------------------------------------------------------------------------\u001b[0m",
      "\u001b[0;31mWebDriverException\u001b[0m                        Traceback (most recent call last)",
      "Cell \u001b[0;32mIn[5], line 11\u001b[0m\n\u001b[1;32m      9\u001b[0m \u001b[38;5;66;03m# Click on the \"Show table\" button\u001b[39;00m\n\u001b[1;32m     10\u001b[0m time\u001b[38;5;241m.\u001b[39msleep(\u001b[38;5;241m5\u001b[39m) \n\u001b[0;32m---> 11\u001b[0m \u001b[43mshow_table_button\u001b[49m\u001b[38;5;241;43m.\u001b[39;49m\u001b[43mclick\u001b[49m\u001b[43m(\u001b[49m\u001b[43m)\u001b[49m\n\u001b[1;32m     12\u001b[0m \u001b[38;5;66;03m# show_table_button.click()\u001b[39;00m\n\u001b[1;32m     13\u001b[0m \u001b[38;5;66;03m#print(BeautifulSoup(table_show.get_attribute(\"innerHTML\"), \"html.parser\").prettify())\u001b[39;00m\n",
      "File \u001b[0;32m~/opt/anaconda3/envs/uds/lib/python3.10/site-packages/selenium/webdriver/remote/webelement.py:94\u001b[0m, in \u001b[0;36mWebElement.click\u001b[0;34m(self)\u001b[0m\n\u001b[1;32m     92\u001b[0m \u001b[38;5;28;01mdef\u001b[39;00m \u001b[38;5;21mclick\u001b[39m(\u001b[38;5;28mself\u001b[39m) \u001b[38;5;241m-\u001b[39m\u001b[38;5;241m>\u001b[39m \u001b[38;5;28;01mNone\u001b[39;00m:\n\u001b[1;32m     93\u001b[0m \u001b[38;5;250m    \u001b[39m\u001b[38;5;124;03m\"\"\"Clicks the element.\"\"\"\u001b[39;00m\n\u001b[0;32m---> 94\u001b[0m     \u001b[38;5;28;43mself\u001b[39;49m\u001b[38;5;241;43m.\u001b[39;49m\u001b[43m_execute\u001b[49m\u001b[43m(\u001b[49m\u001b[43mCommand\u001b[49m\u001b[38;5;241;43m.\u001b[39;49m\u001b[43mCLICK_ELEMENT\u001b[49m\u001b[43m)\u001b[49m\n",
      "File \u001b[0;32m~/opt/anaconda3/envs/uds/lib/python3.10/site-packages/selenium/webdriver/remote/webelement.py:403\u001b[0m, in \u001b[0;36mWebElement._execute\u001b[0;34m(self, command, params)\u001b[0m\n\u001b[1;32m    401\u001b[0m     params \u001b[38;5;241m=\u001b[39m {}\n\u001b[1;32m    402\u001b[0m params[\u001b[38;5;124m\"\u001b[39m\u001b[38;5;124mid\u001b[39m\u001b[38;5;124m\"\u001b[39m] \u001b[38;5;241m=\u001b[39m \u001b[38;5;28mself\u001b[39m\u001b[38;5;241m.\u001b[39m_id\n\u001b[0;32m--> 403\u001b[0m \u001b[38;5;28;01mreturn\u001b[39;00m \u001b[38;5;28;43mself\u001b[39;49m\u001b[38;5;241;43m.\u001b[39;49m\u001b[43m_parent\u001b[49m\u001b[38;5;241;43m.\u001b[39;49m\u001b[43mexecute\u001b[49m\u001b[43m(\u001b[49m\u001b[43mcommand\u001b[49m\u001b[43m,\u001b[49m\u001b[43m \u001b[49m\u001b[43mparams\u001b[49m\u001b[43m)\u001b[49m\n",
      "File \u001b[0;32m~/opt/anaconda3/envs/uds/lib/python3.10/site-packages/selenium/webdriver/remote/webdriver.py:440\u001b[0m, in \u001b[0;36mWebDriver.execute\u001b[0;34m(self, driver_command, params)\u001b[0m\n\u001b[1;32m    438\u001b[0m response \u001b[38;5;241m=\u001b[39m \u001b[38;5;28mself\u001b[39m\u001b[38;5;241m.\u001b[39mcommand_executor\u001b[38;5;241m.\u001b[39mexecute(driver_command, params)\n\u001b[1;32m    439\u001b[0m \u001b[38;5;28;01mif\u001b[39;00m response:\n\u001b[0;32m--> 440\u001b[0m     \u001b[38;5;28;43mself\u001b[39;49m\u001b[38;5;241;43m.\u001b[39;49m\u001b[43merror_handler\u001b[49m\u001b[38;5;241;43m.\u001b[39;49m\u001b[43mcheck_response\u001b[49m\u001b[43m(\u001b[49m\u001b[43mresponse\u001b[49m\u001b[43m)\u001b[49m\n\u001b[1;32m    441\u001b[0m     response[\u001b[38;5;124m\"\u001b[39m\u001b[38;5;124mvalue\u001b[39m\u001b[38;5;124m\"\u001b[39m] \u001b[38;5;241m=\u001b[39m \u001b[38;5;28mself\u001b[39m\u001b[38;5;241m.\u001b[39m_unwrap_value(response\u001b[38;5;241m.\u001b[39mget(\u001b[38;5;124m\"\u001b[39m\u001b[38;5;124mvalue\u001b[39m\u001b[38;5;124m\"\u001b[39m, \u001b[38;5;28;01mNone\u001b[39;00m))\n\u001b[1;32m    442\u001b[0m     \u001b[38;5;28;01mreturn\u001b[39;00m response\n",
      "File \u001b[0;32m~/opt/anaconda3/envs/uds/lib/python3.10/site-packages/selenium/webdriver/remote/errorhandler.py:245\u001b[0m, in \u001b[0;36mErrorHandler.check_response\u001b[0;34m(self, response)\u001b[0m\n\u001b[1;32m    243\u001b[0m         alert_text \u001b[38;5;241m=\u001b[39m value[\u001b[38;5;124m\"\u001b[39m\u001b[38;5;124malert\u001b[39m\u001b[38;5;124m\"\u001b[39m]\u001b[38;5;241m.\u001b[39mget(\u001b[38;5;124m\"\u001b[39m\u001b[38;5;124mtext\u001b[39m\u001b[38;5;124m\"\u001b[39m)\n\u001b[1;32m    244\u001b[0m     \u001b[38;5;28;01mraise\u001b[39;00m exception_class(message, screen, stacktrace, alert_text)  \u001b[38;5;66;03m# type: ignore[call-arg]  # mypy is not smart enough here\u001b[39;00m\n\u001b[0;32m--> 245\u001b[0m \u001b[38;5;28;01mraise\u001b[39;00m exception_class(message, screen, stacktrace)\n",
      "\u001b[0;31mWebDriverException\u001b[0m: Message: \n"
     ]
    }
   ],
   "source": [
    "# Locate the actions menu div for \"Muni Forward Corridors\"\n",
    "actions_menu_div=wait.until(EC.presence_of_element_located((By.XPATH, '//li[.//*[contains(@title, \"Muni Forward Corridors\")]]/descendant::div[contains(@class, \"esri-layer-list__item-actions\")][@aria-expanded=\"false\"]')))\n",
    "time.sleep(5) \n",
    "# Set aria-expanded attribute to true for \"Muni Forward Corridors\"\n",
    "driver.execute_script('arguments[0].setAttribute(\"aria-expanded\", \"true\")', actions_menu_div)\n",
    "driver.execute_script('arguments[0].removeAttribute(\"hidden\")', actions_menu_div)\n",
    "# Locate the \"Show table\" button for \"Muni Forward Corridors\"\n",
    "show_table_button = driver.find_element(By.XPATH, '//li[.//*[contains(@title, \"Muni Forward Corridors\")]]/descendant::li[contains(@class, \"esri-layer-list__item-action\")][@title=\"Show table\"]')\n",
    "# Click on the \"Show table\" button\n",
    "time.sleep(5) \n",
    "show_table_button.click()\n",
    "# show_table_button.click()\n",
    "#print(BeautifulSoup(table_show.get_attribute(\"innerHTML\"), \"html.parser\").prettify())"
   ]
  },
  {
   "cell_type": "code",
   "execution_count": 21,
   "id": "2de1a3dc-980a-49e8-aa4f-e123ed59be3c",
   "metadata": {},
   "outputs": [
    {
     "name": "stdout",
     "output_type": "stream",
     "text": [
      "<span aria-hidden=\"true\" class=\"esri-layer-list__item-action-icon esri-icon-table\">\n",
      "</span>\n",
      "<span class=\"esri-layer-list__item-action-title\">\n",
      " Show table\n",
      "</span>\n"
     ]
    }
   ],
   "source": [
    "# Locate and click on table element.\n",
    "element = wait.until(EC.element_to_be_clickable((By.XPATH, '//li[@class=\"esri-layer-list__item-action\" and @aria-label=\"Show table\"]')))\n",
    "print(BeautifulSoup(element.get_attribute(\"innerHTML\"), \"html.parser\").prettify())\n",
    "\n",
    "#driver.execute_script('arguments[0].setAttribute(\"aria-hidden\", \"false\")', actions_menu_div)\n"
   ]
  },
  {
   "cell_type": "code",
   "execution_count": 22,
   "id": "8fe5d830-2235-4ef2-ba6b-5085dd285e07",
   "metadata": {},
   "outputs": [
    {
     "name": "stdout",
     "output_type": "stream",
     "text": [
      "draggable: true\n",
      "class: esri-layer-list__item esri-layer-list__item--selectable\n",
      "aria-hidden: None\n"
     ]
    }
   ],
   "source": [
    "button = driver.find_element(By.XPATH, '//li[.//span[@title=\"Muni Forward Corridors\"]]')\n",
    "#print(BeautifulSoup(button.get_attribute(\"innerHTML\"), \"html.parser\").prettify())\n",
    "#driver.execute_script('arguments[0].setAttribute(\"draggable\", \"true\")', button)\n",
    "\n",
    "# Check the attributes you want to verify\n",
    "draggable = button.get_attribute('draggable')\n",
    "class_value = button.get_attribute('class')\n",
    "aria_hidden = button.get_attribute('aria-hidden')\n",
    "\n",
    "print(\"draggable:\", draggable)\n",
    "print(\"class:\", class_value)\n",
    "print(\"aria-hidden:\", aria_hidden)"
   ]
  },
  {
   "cell_type": "code",
   "execution_count": null,
   "id": "a13927ea-7560-4906-88ef-080f997398f5",
   "metadata": {},
   "outputs": [],
   "source": [
    "element=driver.find_element(By.XPATH"
   ]
  },
  {
   "cell_type": "code",
   "execution_count": null,
   "id": "c72ecde9-e570-4d32-ac39-d82510e3cf97",
   "metadata": {},
   "outputs": [],
   "source": [
    "\n",
    "table = wait.until(EC.visibility_of_element_located((By.XPATH, '/html/body/div[2]/calcite-shell/calcite-shell-center-row/arcgis-table')))\n",
    "table_html = table.get_attribute(\"innerHTML\")\n",
    "soup = BeautifulSoup(table_html, \"html.parser\")\n",
    "print(soup.prettify())\n",
    "\n",
    "#Scrape the table data\n",
    "table_data = table.text\n",
    "\n",
    "print(table_data)\n",
    "\n",
    "# Close the driver\n",
    "driver.quit()"
   ]
  },
  {
   "cell_type": "code",
   "execution_count": 111,
   "id": "ebd87c86-c9f5-4412-823e-d3b7c7199fc8",
   "metadata": {},
   "outputs": [
    {
     "data": {
      "text/plain": [
       "[]"
      ]
     },
     "execution_count": 111,
     "metadata": {},
     "output_type": "execute_result"
    }
   ],
   "source": [
    "import re\n",
    "with open('table.html', 'r') as f:  \n",
    "    saved_content = f.read()\n",
    "pattern = re.compile(r'<vaadin-grid-cell-content[^>]*>(.*?)</vaadin-grid-cell-content>') \n",
    "re.findall(pattern, saved_content)\n"
   ]
  },
  {
   "cell_type": "code",
   "execution_count": 112,
   "id": "6964cb79-ce04-461a-8159-51de7f88cd14",
   "metadata": {},
   "outputs": [],
   "source": [
    "table_cells = soup.find_all('vaadin-grid-cell-content')"
   ]
  },
  {
   "cell_type": "code",
   "execution_count": 96,
   "id": "35ce2e1f-ee2b-41c5-ba19-9125b910405d",
   "metadata": {},
   "outputs": [],
   "source": [
    "table_data = []\n",
    "for cell in table_cells:\n",
    "    data = cell.get_text(strip=True)\n",
    "    table_data.append(data)"
   ]
  },
  {
   "cell_type": "code",
   "execution_count": 113,
   "id": "d3c344e2-5e30-44df-af1b-d78586b29fe9",
   "metadata": {},
   "outputs": [
    {
     "data": {
      "text/plain": [
       "[]"
      ]
     },
     "execution_count": 113,
     "metadata": {},
     "output_type": "execute_result"
    }
   ],
   "source": [
    "table_cells"
   ]
  },
  {
   "cell_type": "code",
   "execution_count": null,
   "id": "be97e262-99a4-441a-9c1a-b2a0dd7da004",
   "metadata": {},
   "outputs": [],
   "source": [
    "# Locate the \"Show table\" button for \"Muni Forward Corridors\"\n",
    "\n",
    "# show_table_button = wait.until(EC.element_to_be_clickable((By.XPATH, '//li[.//*[contains(@title, \"Muni Forward Corridors\")]]//descendant::li[contains(@class, \"esri-layer-list__item-action\") and @title=\"Show table\"]')))\n",
    "# //li[.//*[contains(@title, \"Muni Forward Corridors\")]]//descendant::li[contains(@class, \"esri-layer-list__item-action\")]\n",
    "# show_table_button.click()\n",
    "\n",
    "element = driver.find_element(By.XPATH, '//li[.//*[contains(@title, \"Muni Forward Corridors\")]]//descendant::li[contains(@class, \"esri-layer-list__item-action\") and @title=\"Show table\"]')\n",
    "# if (element.isDisplayed() and element.isEnabled()):\n",
    "element.click()\n",
    "\n",
    "# Click on the \"Show table\" button\n"
   ]
  },
  {
   "cell_type": "code",
   "execution_count": 53,
   "id": "d876ac8a-94b8-4b98-ae92-1df404f46bc4",
   "metadata": {},
   "outputs": [
    {
     "ename": "NoSuchElementException",
     "evalue": "Message: \n",
     "output_type": "error",
     "traceback": [
      "\u001b[0;31m---------------------------------------------------------------------------\u001b[0m",
      "\u001b[0;31mNoSuchElementException\u001b[0m                    Traceback (most recent call last)",
      "Cell \u001b[0;32mIn[53], line 5\u001b[0m\n\u001b[1;32m      1\u001b[0m \u001b[38;5;66;03m# Locate the \"Show table\" button for \"Muni Forward Corridors\"\u001b[39;00m\n\u001b[1;32m      2\u001b[0m \u001b[38;5;66;03m#show_table_button\u001b[39;00m\n\u001b[1;32m      3\u001b[0m \u001b[38;5;66;03m#wait.until(EC.element_to_be_clickable((By.XPATH, '//li[.//*[contains(@id, \"187f8fed19a-widget-34_187f8fed13f-object-39_actions\")]]/descendant::li[contains(@class, \"esri-layer-list__item-action\")][@title=\"Show table\"]')))\u001b[39;00m\n\u001b[1;32m      4\u001b[0m \u001b[38;5;66;03m# Click on the \"Show table\" button\u001b[39;00m\n\u001b[0;32m----> 5\u001b[0m \u001b[43mdriver\u001b[49m\u001b[38;5;241;43m.\u001b[39;49m\u001b[43mfind_element\u001b[49m\u001b[43m(\u001b[49m\u001b[43mBy\u001b[49m\u001b[38;5;241;43m.\u001b[39;49m\u001b[43mCLASS_NAME\u001b[49m\u001b[43m,\u001b[49m\u001b[43m \u001b[49m\u001b[38;5;124;43m\"\u001b[39;49m\u001b[38;5;124;43mesri-layer-list__item esri-layer-list__item--selectable\u001b[39;49m\u001b[38;5;124;43m\"\u001b[39;49m\u001b[43m)\u001b[49m\n\u001b[1;32m      6\u001b[0m \u001b[38;5;66;03m#driver.execute_script('arguments[0].setAttribute(\"aria-hidden\", \"false\")', show_table_button)\u001b[39;00m\n\u001b[1;32m      7\u001b[0m \u001b[38;5;66;03m#driver.execute_script('arguments[0].removeAttribute(\"hidden\")', actions_menu_div)\u001b[39;00m\n",
      "File \u001b[0;32m~/opt/anaconda3/envs/uds/lib/python3.10/site-packages/selenium/webdriver/remote/webdriver.py:831\u001b[0m, in \u001b[0;36mWebDriver.find_element\u001b[0;34m(self, by, value)\u001b[0m\n\u001b[1;32m    828\u001b[0m     by \u001b[38;5;241m=\u001b[39m By\u001b[38;5;241m.\u001b[39mCSS_SELECTOR\n\u001b[1;32m    829\u001b[0m     value \u001b[38;5;241m=\u001b[39m \u001b[38;5;124mf\u001b[39m\u001b[38;5;124m'\u001b[39m\u001b[38;5;124m[name=\u001b[39m\u001b[38;5;124m\"\u001b[39m\u001b[38;5;132;01m{\u001b[39;00mvalue\u001b[38;5;132;01m}\u001b[39;00m\u001b[38;5;124m\"\u001b[39m\u001b[38;5;124m]\u001b[39m\u001b[38;5;124m'\u001b[39m\n\u001b[0;32m--> 831\u001b[0m \u001b[38;5;28;01mreturn\u001b[39;00m \u001b[38;5;28;43mself\u001b[39;49m\u001b[38;5;241;43m.\u001b[39;49m\u001b[43mexecute\u001b[49m\u001b[43m(\u001b[49m\u001b[43mCommand\u001b[49m\u001b[38;5;241;43m.\u001b[39;49m\u001b[43mFIND_ELEMENT\u001b[49m\u001b[43m,\u001b[49m\u001b[43m \u001b[49m\u001b[43m{\u001b[49m\u001b[38;5;124;43m\"\u001b[39;49m\u001b[38;5;124;43musing\u001b[39;49m\u001b[38;5;124;43m\"\u001b[39;49m\u001b[43m:\u001b[49m\u001b[43m \u001b[49m\u001b[43mby\u001b[49m\u001b[43m,\u001b[49m\u001b[43m \u001b[49m\u001b[38;5;124;43m\"\u001b[39;49m\u001b[38;5;124;43mvalue\u001b[39;49m\u001b[38;5;124;43m\"\u001b[39;49m\u001b[43m:\u001b[49m\u001b[43m \u001b[49m\u001b[43mvalue\u001b[49m\u001b[43m}\u001b[49m\u001b[43m)\u001b[49m[\u001b[38;5;124m\"\u001b[39m\u001b[38;5;124mvalue\u001b[39m\u001b[38;5;124m\"\u001b[39m]\n",
      "File \u001b[0;32m~/opt/anaconda3/envs/uds/lib/python3.10/site-packages/selenium/webdriver/remote/webdriver.py:440\u001b[0m, in \u001b[0;36mWebDriver.execute\u001b[0;34m(self, driver_command, params)\u001b[0m\n\u001b[1;32m    438\u001b[0m response \u001b[38;5;241m=\u001b[39m \u001b[38;5;28mself\u001b[39m\u001b[38;5;241m.\u001b[39mcommand_executor\u001b[38;5;241m.\u001b[39mexecute(driver_command, params)\n\u001b[1;32m    439\u001b[0m \u001b[38;5;28;01mif\u001b[39;00m response:\n\u001b[0;32m--> 440\u001b[0m     \u001b[38;5;28;43mself\u001b[39;49m\u001b[38;5;241;43m.\u001b[39;49m\u001b[43merror_handler\u001b[49m\u001b[38;5;241;43m.\u001b[39;49m\u001b[43mcheck_response\u001b[49m\u001b[43m(\u001b[49m\u001b[43mresponse\u001b[49m\u001b[43m)\u001b[49m\n\u001b[1;32m    441\u001b[0m     response[\u001b[38;5;124m\"\u001b[39m\u001b[38;5;124mvalue\u001b[39m\u001b[38;5;124m\"\u001b[39m] \u001b[38;5;241m=\u001b[39m \u001b[38;5;28mself\u001b[39m\u001b[38;5;241m.\u001b[39m_unwrap_value(response\u001b[38;5;241m.\u001b[39mget(\u001b[38;5;124m\"\u001b[39m\u001b[38;5;124mvalue\u001b[39m\u001b[38;5;124m\"\u001b[39m, \u001b[38;5;28;01mNone\u001b[39;00m))\n\u001b[1;32m    442\u001b[0m     \u001b[38;5;28;01mreturn\u001b[39;00m response\n",
      "File \u001b[0;32m~/opt/anaconda3/envs/uds/lib/python3.10/site-packages/selenium/webdriver/remote/errorhandler.py:245\u001b[0m, in \u001b[0;36mErrorHandler.check_response\u001b[0;34m(self, response)\u001b[0m\n\u001b[1;32m    243\u001b[0m         alert_text \u001b[38;5;241m=\u001b[39m value[\u001b[38;5;124m\"\u001b[39m\u001b[38;5;124malert\u001b[39m\u001b[38;5;124m\"\u001b[39m]\u001b[38;5;241m.\u001b[39mget(\u001b[38;5;124m\"\u001b[39m\u001b[38;5;124mtext\u001b[39m\u001b[38;5;124m\"\u001b[39m)\n\u001b[1;32m    244\u001b[0m     \u001b[38;5;28;01mraise\u001b[39;00m exception_class(message, screen, stacktrace, alert_text)  \u001b[38;5;66;03m# type: ignore[call-arg]  # mypy is not smart enough here\u001b[39;00m\n\u001b[0;32m--> 245\u001b[0m \u001b[38;5;28;01mraise\u001b[39;00m exception_class(message, screen, stacktrace)\n",
      "\u001b[0;31mNoSuchElementException\u001b[0m: Message: \n"
     ]
    }
   ],
   "source": [
    "\n",
    "# Locate the \"Show table\" button for \"Muni Forward Corridors\"\n",
    "#show_table_button\n",
    "#wait.until(EC.element_to_be_clickable((By.XPATH, '//li[.//*[contains(@id, \"187f8fed19a-widget-34_187f8fed13f-object-39_actions\")]]/descendant::li[contains(@class, \"esri-layer-list__item-action\")][@title=\"Show table\"]')))\n",
    "# Click on the \"Show table\" button\n",
    "driver.find_element(By.CLASS_NAME, \"esri-layer-list__item esri-layer-list__item--selectable\")\n",
    "#driver.execute_script('arguments[0].setAttribute(\"aria-hidden\", \"false\")', show_table_button)\n",
    "#driver.execute_script('arguments[0].removeAttribute(\"hidden\")', actions_menu_div)\n"
   ]
  },
  {
   "cell_type": "code",
   "execution_count": 43,
   "id": "945046d0-9f8b-4e06-b144-4074e81e9a7a",
   "metadata": {},
   "outputs": [
    {
     "ename": "WebDriverException",
     "evalue": "Message: \n",
     "output_type": "error",
     "traceback": [
      "\u001b[0;31m---------------------------------------------------------------------------\u001b[0m",
      "\u001b[0;31mWebDriverException\u001b[0m                        Traceback (most recent call last)",
      "Cell \u001b[0;32mIn[43], line 1\u001b[0m\n\u001b[0;32m----> 1\u001b[0m \u001b[43mshow_table_button\u001b[49m\u001b[38;5;241;43m.\u001b[39;49m\u001b[43mclick\u001b[49m\u001b[43m(\u001b[49m\u001b[43m)\u001b[49m\n",
      "File \u001b[0;32m~/opt/anaconda3/envs/uds/lib/python3.10/site-packages/selenium/webdriver/remote/webelement.py:94\u001b[0m, in \u001b[0;36mWebElement.click\u001b[0;34m(self)\u001b[0m\n\u001b[1;32m     92\u001b[0m \u001b[38;5;28;01mdef\u001b[39;00m \u001b[38;5;21mclick\u001b[39m(\u001b[38;5;28mself\u001b[39m) \u001b[38;5;241m-\u001b[39m\u001b[38;5;241m>\u001b[39m \u001b[38;5;28;01mNone\u001b[39;00m:\n\u001b[1;32m     93\u001b[0m \u001b[38;5;250m    \u001b[39m\u001b[38;5;124;03m\"\"\"Clicks the element.\"\"\"\u001b[39;00m\n\u001b[0;32m---> 94\u001b[0m     \u001b[38;5;28;43mself\u001b[39;49m\u001b[38;5;241;43m.\u001b[39;49m\u001b[43m_execute\u001b[49m\u001b[43m(\u001b[49m\u001b[43mCommand\u001b[49m\u001b[38;5;241;43m.\u001b[39;49m\u001b[43mCLICK_ELEMENT\u001b[49m\u001b[43m)\u001b[49m\n",
      "File \u001b[0;32m~/opt/anaconda3/envs/uds/lib/python3.10/site-packages/selenium/webdriver/remote/webelement.py:403\u001b[0m, in \u001b[0;36mWebElement._execute\u001b[0;34m(self, command, params)\u001b[0m\n\u001b[1;32m    401\u001b[0m     params \u001b[38;5;241m=\u001b[39m {}\n\u001b[1;32m    402\u001b[0m params[\u001b[38;5;124m\"\u001b[39m\u001b[38;5;124mid\u001b[39m\u001b[38;5;124m\"\u001b[39m] \u001b[38;5;241m=\u001b[39m \u001b[38;5;28mself\u001b[39m\u001b[38;5;241m.\u001b[39m_id\n\u001b[0;32m--> 403\u001b[0m \u001b[38;5;28;01mreturn\u001b[39;00m \u001b[38;5;28;43mself\u001b[39;49m\u001b[38;5;241;43m.\u001b[39;49m\u001b[43m_parent\u001b[49m\u001b[38;5;241;43m.\u001b[39;49m\u001b[43mexecute\u001b[49m\u001b[43m(\u001b[49m\u001b[43mcommand\u001b[49m\u001b[43m,\u001b[49m\u001b[43m \u001b[49m\u001b[43mparams\u001b[49m\u001b[43m)\u001b[49m\n",
      "File \u001b[0;32m~/opt/anaconda3/envs/uds/lib/python3.10/site-packages/selenium/webdriver/remote/webdriver.py:440\u001b[0m, in \u001b[0;36mWebDriver.execute\u001b[0;34m(self, driver_command, params)\u001b[0m\n\u001b[1;32m    438\u001b[0m response \u001b[38;5;241m=\u001b[39m \u001b[38;5;28mself\u001b[39m\u001b[38;5;241m.\u001b[39mcommand_executor\u001b[38;5;241m.\u001b[39mexecute(driver_command, params)\n\u001b[1;32m    439\u001b[0m \u001b[38;5;28;01mif\u001b[39;00m response:\n\u001b[0;32m--> 440\u001b[0m     \u001b[38;5;28;43mself\u001b[39;49m\u001b[38;5;241;43m.\u001b[39;49m\u001b[43merror_handler\u001b[49m\u001b[38;5;241;43m.\u001b[39;49m\u001b[43mcheck_response\u001b[49m\u001b[43m(\u001b[49m\u001b[43mresponse\u001b[49m\u001b[43m)\u001b[49m\n\u001b[1;32m    441\u001b[0m     response[\u001b[38;5;124m\"\u001b[39m\u001b[38;5;124mvalue\u001b[39m\u001b[38;5;124m\"\u001b[39m] \u001b[38;5;241m=\u001b[39m \u001b[38;5;28mself\u001b[39m\u001b[38;5;241m.\u001b[39m_unwrap_value(response\u001b[38;5;241m.\u001b[39mget(\u001b[38;5;124m\"\u001b[39m\u001b[38;5;124mvalue\u001b[39m\u001b[38;5;124m\"\u001b[39m, \u001b[38;5;28;01mNone\u001b[39;00m))\n\u001b[1;32m    442\u001b[0m     \u001b[38;5;28;01mreturn\u001b[39;00m response\n",
      "File \u001b[0;32m~/opt/anaconda3/envs/uds/lib/python3.10/site-packages/selenium/webdriver/remote/errorhandler.py:245\u001b[0m, in \u001b[0;36mErrorHandler.check_response\u001b[0;34m(self, response)\u001b[0m\n\u001b[1;32m    243\u001b[0m         alert_text \u001b[38;5;241m=\u001b[39m value[\u001b[38;5;124m\"\u001b[39m\u001b[38;5;124malert\u001b[39m\u001b[38;5;124m\"\u001b[39m]\u001b[38;5;241m.\u001b[39mget(\u001b[38;5;124m\"\u001b[39m\u001b[38;5;124mtext\u001b[39m\u001b[38;5;124m\"\u001b[39m)\n\u001b[1;32m    244\u001b[0m     \u001b[38;5;28;01mraise\u001b[39;00m exception_class(message, screen, stacktrace, alert_text)  \u001b[38;5;66;03m# type: ignore[call-arg]  # mypy is not smart enough here\u001b[39;00m\n\u001b[0;32m--> 245\u001b[0m \u001b[38;5;28;01mraise\u001b[39;00m exception_class(message, screen, stacktrace)\n",
      "\u001b[0;31mWebDriverException\u001b[0m: Message: \n"
     ]
    }
   ],
   "source": [
    "show_table_button.click()"
   ]
  },
  {
   "cell_type": "code",
   "execution_count": 57,
   "id": "9891ea3a-7952-464f-bd1a-648bcf58aec4",
   "metadata": {},
   "outputs": [
    {
     "ename": "TimeoutException",
     "evalue": "Message: \n",
     "output_type": "error",
     "traceback": [
      "\u001b[0;31m---------------------------------------------------------------------------\u001b[0m",
      "\u001b[0;31mTimeoutException\u001b[0m                          Traceback (most recent call last)",
      "Cell \u001b[0;32mIn[57], line 5\u001b[0m\n\u001b[1;32m      1\u001b[0m \u001b[38;5;66;03m# Click on the 'Show table' button\u001b[39;00m\n\u001b[1;32m      2\u001b[0m \u001b[38;5;66;03m#show_table_button.click()\u001b[39;00m\n\u001b[1;32m      3\u001b[0m \n\u001b[1;32m      4\u001b[0m \u001b[38;5;66;03m# Wait for the table to be visible\u001b[39;00m\n\u001b[0;32m----> 5\u001b[0m table \u001b[38;5;241m=\u001b[39m \u001b[43mwait\u001b[49m\u001b[38;5;241;43m.\u001b[39;49m\u001b[43muntil\u001b[49m\u001b[43m(\u001b[49m\u001b[43mEC\u001b[49m\u001b[38;5;241;43m.\u001b[39;49m\u001b[43mvisibility_of_element_located\u001b[49m\u001b[43m(\u001b[49m\u001b[43m(\u001b[49m\u001b[43mBy\u001b[49m\u001b[38;5;241;43m.\u001b[39;49m\u001b[43mXPATH\u001b[49m\u001b[43m,\u001b[49m\u001b[43m \u001b[49m\u001b[38;5;124;43m'\u001b[39;49m\u001b[38;5;124;43m/html/body/div[2]/calcite-shell/calcite-shell-center-row/arcgis-table\u001b[39;49m\u001b[38;5;124;43m'\u001b[39;49m\u001b[43m)\u001b[49m\u001b[43m)\u001b[49m\u001b[43m)\u001b[49m\n\u001b[1;32m      7\u001b[0m \u001b[38;5;66;03m# Scrape the table data\u001b[39;00m\n\u001b[1;32m      8\u001b[0m table_data \u001b[38;5;241m=\u001b[39m table\u001b[38;5;241m.\u001b[39mtext\n",
      "File \u001b[0;32m~/opt/anaconda3/envs/uds/lib/python3.10/site-packages/selenium/webdriver/support/wait.py:95\u001b[0m, in \u001b[0;36mWebDriverWait.until\u001b[0;34m(self, method, message)\u001b[0m\n\u001b[1;32m     93\u001b[0m     \u001b[38;5;28;01mif\u001b[39;00m time\u001b[38;5;241m.\u001b[39mmonotonic() \u001b[38;5;241m>\u001b[39m end_time:\n\u001b[1;32m     94\u001b[0m         \u001b[38;5;28;01mbreak\u001b[39;00m\n\u001b[0;32m---> 95\u001b[0m \u001b[38;5;28;01mraise\u001b[39;00m TimeoutException(message, screen, stacktrace)\n",
      "\u001b[0;31mTimeoutException\u001b[0m: Message: \n"
     ]
    }
   ],
   "source": [
    "# Click on the 'Show table' button\n",
    "#show_table_button.click()\n",
    "\n",
    "# Wait for the table to be visible\n",
    "table = wait.until(EC.visibility_of_element_located((By.XPATH, '/html/body/div[2]/calcite-shell/calcite-shell-center-row/arcgis-table')))\n",
    "\n",
    "# Scrape the table data\n",
    "table_data = table.text\n",
    "\n",
    "print(table_data)"
   ]
  },
  {
   "cell_type": "code",
   "execution_count": 88,
   "id": "2e41c233-7ed2-47d4-ae6d-467cde3f9184",
   "metadata": {},
   "outputs": [
    {
     "name": "stderr",
     "output_type": "stream",
     "text": [
      "/var/folders/cx/5hr478816plb9gd8v3v207d40000gn/T/ipykernel_2663/3202794721.py:5: DeprecationWarning: headless property is deprecated, instead use add_argument('--headless') or add_argument('--headless=new')\n",
      "  options.headless = False  # Set to False if you want to see the browser window\n"
     ]
    },
    {
     "ename": "TimeoutException",
     "evalue": "Message: \nStacktrace:\n0   chromedriver                        0x00000001008338ac chromedriver + 4257964\n1   chromedriver                        0x000000010082bf40 chromedriver + 4226880\n2   chromedriver                        0x00000001004689d4 chromedriver + 281044\n3   chromedriver                        0x00000001004a3a34 chromedriver + 522804\n4   chromedriver                        0x00000001004da7e4 chromedriver + 747492\n5   chromedriver                        0x000000010049798c chromedriver + 473484\n6   chromedriver                        0x000000010049898c chromedriver + 477580\n7   chromedriver                        0x00000001007f2900 chromedriver + 3991808\n8   chromedriver                        0x00000001007f6354 chromedriver + 4006740\n9   chromedriver                        0x00000001007f6940 chromedriver + 4008256\n10  chromedriver                        0x00000001007fc33c chromedriver + 4031292\n11  chromedriver                        0x00000001007f6f34 chromedriver + 4009780\n12  chromedriver                        0x00000001007cf490 chromedriver + 3847312\n13  chromedriver                        0x00000001008149f4 chromedriver + 4131316\n14  chromedriver                        0x0000000100814b4c chromedriver + 4131660\n15  chromedriver                        0x0000000100825230 chromedriver + 4198960\n16  libsystem_pthread.dylib             0x00000001a6eebfa8 _pthread_start + 148\n17  libsystem_pthread.dylib             0x00000001a6ee6da0 thread_start + 8\n",
     "output_type": "error",
     "traceback": [
      "\u001b[0;31m---------------------------------------------------------------------------\u001b[0m",
      "\u001b[0;31mTimeoutException\u001b[0m                          Traceback (most recent call last)",
      "Cell \u001b[0;32mIn[88], line 11\u001b[0m\n\u001b[1;32m      7\u001b[0m driver\u001b[38;5;241m.\u001b[39mget(url)\n\u001b[1;32m     10\u001b[0m wait \u001b[38;5;241m=\u001b[39m WebDriverWait(driver, \u001b[38;5;241m5\u001b[39m)\n\u001b[0;32m---> 11\u001b[0m layers_button \u001b[38;5;241m=\u001b[39m \u001b[43mwait\u001b[49m\u001b[38;5;241;43m.\u001b[39;49m\u001b[43muntil\u001b[49m\u001b[43m(\u001b[49m\u001b[43mEC\u001b[49m\u001b[38;5;241;43m.\u001b[39;49m\u001b[43melement_to_be_clickable\u001b[49m\u001b[43m(\u001b[49m\u001b[43m(\u001b[49m\u001b[43mBy\u001b[49m\u001b[38;5;241;43m.\u001b[39;49m\u001b[43mCSS_SELECTOR\u001b[49m\u001b[43m,\u001b[49m\u001b[43m \u001b[49m\u001b[38;5;124;43m'\u001b[39;49m\u001b[38;5;124;43mcalcite-action#layers\u001b[39;49m\u001b[38;5;124;43m'\u001b[39;49m\u001b[43m)\u001b[49m\u001b[43m)\u001b[49m\u001b[43m)\u001b[49m\n\u001b[1;32m     13\u001b[0m \u001b[38;5;66;03m# Click on the calcite-action element\u001b[39;00m\n\u001b[1;32m     14\u001b[0m layers_button\u001b[38;5;241m.\u001b[39mclick()\n",
      "File \u001b[0;32m~/opt/anaconda3/envs/uds/lib/python3.10/site-packages/selenium/webdriver/support/wait.py:95\u001b[0m, in \u001b[0;36mWebDriverWait.until\u001b[0;34m(self, method, message)\u001b[0m\n\u001b[1;32m     93\u001b[0m     \u001b[38;5;28;01mif\u001b[39;00m time\u001b[38;5;241m.\u001b[39mmonotonic() \u001b[38;5;241m>\u001b[39m end_time:\n\u001b[1;32m     94\u001b[0m         \u001b[38;5;28;01mbreak\u001b[39;00m\n\u001b[0;32m---> 95\u001b[0m \u001b[38;5;28;01mraise\u001b[39;00m TimeoutException(message, screen, stacktrace)\n",
      "\u001b[0;31mTimeoutException\u001b[0m: Message: \nStacktrace:\n0   chromedriver                        0x00000001008338ac chromedriver + 4257964\n1   chromedriver                        0x000000010082bf40 chromedriver + 4226880\n2   chromedriver                        0x00000001004689d4 chromedriver + 281044\n3   chromedriver                        0x00000001004a3a34 chromedriver + 522804\n4   chromedriver                        0x00000001004da7e4 chromedriver + 747492\n5   chromedriver                        0x000000010049798c chromedriver + 473484\n6   chromedriver                        0x000000010049898c chromedriver + 477580\n7   chromedriver                        0x00000001007f2900 chromedriver + 3991808\n8   chromedriver                        0x00000001007f6354 chromedriver + 4006740\n9   chromedriver                        0x00000001007f6940 chromedriver + 4008256\n10  chromedriver                        0x00000001007fc33c chromedriver + 4031292\n11  chromedriver                        0x00000001007f6f34 chromedriver + 4009780\n12  chromedriver                        0x00000001007cf490 chromedriver + 3847312\n13  chromedriver                        0x00000001008149f4 chromedriver + 4131316\n14  chromedriver                        0x0000000100814b4c chromedriver + 4131660\n15  chromedriver                        0x0000000100825230 chromedriver + 4198960\n16  libsystem_pthread.dylib             0x00000001a6eebfa8 _pthread_start + 148\n17  libsystem_pthread.dylib             0x00000001a6ee6da0 thread_start + 8\n"
     ]
    }
   ],
   "source": [
    "\n",
    "# Path of the website. \n",
    "url = \"https://sfgov.maps.arcgis.com/apps/mapviewer/index.html?webmap=b8b3a13ed26c4cb1aa10544ade0ea6a2\"\n",
    "\n",
    "options = webdriver.ChromeOptions()\n",
    "options.headless = False  # Set to False if you want to see the browser window\n",
    "driver = webdriver.Chrome(options=options)\n",
    "driver.get(url)\n",
    "\n",
    "\n",
    "wait = WebDriverWait(driver, 5)\n",
    "layers_button = wait.until(EC.element_to_be_clickable((By.CSS_SELECTOR, 'calcite-action#layers')))\n",
    "\n",
    "# Click on the calcite-action element\n",
    "layers_button.click()\n",
    "# Locate the layer list item\n",
    "\n",
    "\n",
    "# Locate the layer list item for \"Muni Forward Corridors\"\n",
    "layer_list_item = wait.until(EC.element_to_be_clickable((By.XPATH, '//li[contains(@class, \"esri-layer-list__item\")][.//*[contains(@title, \"Muni Forward Corridors\")]]')))\n",
    "# Click on the layer list item\n",
    "layer_list_item.click()\n",
    "\n",
    "# Locate the actions menu div for \"Muni Forward Corridors\"\n",
    "actions_menu_div = wait.until(EC.presence_of_element_located((By.XPATH, '//li[.//*[contains(@title, \"Muni Forward Corridors\")]]/descendant::div[contains(@class, \"esri-layer-list__item-actions\")][@aria-expanded=\"false\"]')))\n",
    "\n",
    "# Set aria-expanded attribute to true for \"Muni Forward Corridors\"\n",
    "driver.execute_script('arguments[0].setAttribute(\"aria-expanded\", \"true\")', actions_menu_div)\n",
    "driver.execute_script('arguments[0].removeAttribute(\"hidden\")', actions_menu_div)\n",
    "\n",
    "# Locate the \"Show table\" button for \"Muni Forward Corridors\"\n",
    "show_table_button = wait.until(EC.element_to_be_clickable((By.XPATH, '//li[.//*[contains(@title, \"Muni Forward Corridors\")]]/descendant::li[contains(@class, \"esri-layer-list__item-action\")][@title=\"Show table\"]')))\n",
    "# Click on the \"Show table\" button\n",
    "show_table_button.click()\n",
    "\n",
    "# Click on the 'Show table' button\n",
    "#show_table_button.click()\n",
    "\n",
    "# Wait for the table to be visible\n",
    "table = wait.until(EC.visibility_of_element_located((By.XPATH, '/html/body/div[2]/calcite-shell/calcite-shell-center-row/arcgis-table')))\n",
    "\n",
    "# Scrape the table data\n",
    "table_data = table.text\n",
    "\n",
    "print(table_data)\n",
    "\n",
    "# Close the driver\n",
    "driver.quit()"
   ]
  },
  {
   "cell_type": "code",
   "execution_count": null,
   "id": "fa469cc7-59e9-4b01-b611-cb59a43e602e",
   "metadata": {},
   "outputs": [],
   "source": []
  },
  {
   "cell_type": "code",
   "execution_count": null,
   "id": "64284472-dbaf-4b81-b678-ac290658684b",
   "metadata": {},
   "outputs": [],
   "source": [
    "\n"
   ]
  },
  {
   "cell_type": "code",
   "execution_count": null,
   "id": "46b4b6aa-2846-471d-bc8a-afee96d1c5fc",
   "metadata": {},
   "outputs": [],
   "source": []
  },
  {
   "cell_type": "code",
   "execution_count": null,
   "id": "8a3c6e7c-4f91-4433-8bd9-d7b61d1a2178",
   "metadata": {},
   "outputs": [],
   "source": [
    "actions_menu_div = wait.until(EC.presence_of_element_located((By.XPATH, '//li[.//*[contains(@title, \"Muni Forward Corridors\")]]/descendant::div[contains(@class, \"esri-layer-list__item-actions\")][@aria-expanded=\"false\"]')))\n",
    "\n",
    "# Set aria-expanded attribute to true for \"Muni Forward Corridors\"\n",
    "driver.execute_script('arguments[0].setAttribute(\"aria-expanded\", \"true\")', actions_menu_div)\n",
    "driver.execute_script('arguments[0].removeAttribute(\"hidden\")', actions_menu_div)"
   ]
  },
  {
   "cell_type": "code",
   "execution_count": null,
   "id": "46448aac-51c3-407c-8282-77ff7dcfd42e",
   "metadata": {},
   "outputs": [],
   "source": [
    "elements=driver.find_elements(By.CLASS_NAME, 'esri-layer-list__item-action-title')\n",
    "elements\n"
   ]
  },
  {
   "cell_type": "code",
   "execution_count": null,
   "id": "a79dca2a-6c86-451b-8947-71f355a89fb6",
   "metadata": {},
   "outputs": [],
   "source": [
    "# element = driver.find_element(By.CSS_SELECTOR, '.esri-layer-list__item-action[title=\"Show table\"]')\n",
    "# element.click()\n",
    "\n",
    "driver.find_element(By.LINK_TEXT, 'Show table').click()\n",
    "\n"
   ]
  },
  {
   "cell_type": "code",
   "execution_count": null,
   "id": "8ea4d8c3-ae6b-4b0f-bdfb-2f11719a75b5",
   "metadata": {},
   "outputs": [],
   "source": [
    "wait = WebDriverWait(driver, 20)  # Set the timeout to 20 seconds\n",
    "\n",
    "element = wait.until(EC.element_to_be_clickable((By.ID, 'element_id')))\n",
    "element.click()\n",
    "\n",
    "elements=driver.find_elements(By.XPATH, '//*[@id=\"187f7f776e9-widget-34_187f7f77692-object-39_actions\"]/ul[1]/li[3]')\n",
    "elements                         "
   ]
  },
  {
   "cell_type": "markdown",
   "id": "c6ccda73-3ed2-44eb-bf6d-166a11ce058d",
   "metadata": {},
   "source": [
    "elemnts= driver.find_elements(By.CLASS_NAME, \"calcite-shell-container\")\n",
    "\n",
    "#click layers\n",
    "# <calcite-action id=\"layers\" aria-expanded=\"false\" class=\"js-action\" appearance=\"solid\" scale=\"m\" text-enabled=\"\" calcite-hydrated=\"\"></calcite-action>\n",
    "#aria-controls=\"187f26478ce-widget-33_187f2647855-object-39_actions\"\n",
    "class=\"esri-icon-handle-horizontal\"\n",
    "# click on muniforward corridoors\n",
    "# aria-labelledby=\"187f26478ce-widget-33_187f2647855-object-39__title\"\n",
    "\n",
    "\n",
    "\n",
    "# title=\"Show table\""
   ]
  },
  {
   "cell_type": "code",
   "execution_count": null,
   "id": "2fb4ee12-aa80-4780-8f95-c7f69feeefe7",
   "metadata": {},
   "outputs": [],
   "source": [
    "elemnts."
   ]
  },
  {
   "cell_type": "code",
   "execution_count": null,
   "id": "29392531-be3f-4f8d-bb07-2024e35467b2",
   "metadata": {},
   "outputs": [],
   "source": [
    "from selenium.webdriver.support.ui import WebDriverWait\n",
    "from selenium.webdriver.support import expected_conditions as EC\n",
    "\n",
    "# Wait for the desired element to be present on the page\n",
    "\n"
   ]
  },
  {
   "cell_type": "code",
   "execution_count": null,
   "id": "cf014a1c-0d73-4828-a11d-221366c28210",
   "metadata": {},
   "outputs": [],
   "source": [
    "wait = WebDriverWait(driver, 10)  # Maximum wait time of 10 seconds\n",
    "element = wait.until(EC.presence_of_all_elements_located((By.CLASS_NAME, 'esri-grid__content')))\n"
   ]
  },
  {
   "cell_type": "code",
   "execution_count": null,
   "id": "4d696060-b16b-47f3-b2ba-20709520cb10",
   "metadata": {},
   "outputs": [],
   "source": [
    "element = driver.find_elements"
   ]
  },
  {
   "cell_type": "code",
   "execution_count": null,
   "id": "72a9b45a-4b5b-4452-aab6-c66db76a9cd4",
   "metadata": {},
   "outputs": [],
   "source": [
    "wait = WebDriverWait(driver, 10)  # Maximum wait time of 10 seconds\n",
    "element = wait.until(EC.presence_of_element_located(('arcgis-table')))\n"
   ]
  },
  {
   "cell_type": "code",
   "execution_count": null,
   "id": "661dbee5-684a-4fbc-9358-31c32fdcbf1e",
   "metadata": {},
   "outputs": [],
   "source": [
    "soup"
   ]
  },
  {
   "cell_type": "code",
   "execution_count": null,
   "id": "187aab7c-8411-4206-81d9-acb93d254b46",
   "metadata": {},
   "outputs": [],
   "source": [
    "posts.head()"
   ]
  },
  {
   "cell_type": "code",
   "execution_count": null,
   "id": "9765d4e3-dd53-45da-accd-9573787be1a3",
   "metadata": {},
   "outputs": [],
   "source": []
  }
 ],
 "metadata": {
  "kernelspec": {
   "display_name": "Python 3 (ipykernel)",
   "language": "python",
   "name": "python3"
  },
  "language_info": {
   "codemirror_mode": {
    "name": "ipython",
    "version": 3
   },
   "file_extension": ".py",
   "mimetype": "text/x-python",
   "name": "python",
   "nbconvert_exporter": "python",
   "pygments_lexer": "ipython3",
   "version": "3.10.10"
  }
 },
 "nbformat": 4,
 "nbformat_minor": 5
}
