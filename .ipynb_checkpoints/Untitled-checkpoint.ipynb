{
 "cells": [
  {
   "cell_type": "markdown",
   "id": "5e9b4cd8-d437-4e12-847f-ad7fce89ef2e",
   "metadata": {},
   "source": [
    "# Data Collection 1\n",
    "\n",
    "### BRT routes for SF"
   ]
  },
  {
   "cell_type": "code",
   "execution_count": 1,
   "id": "9ed2f04e-2f4d-424b-9447-7b211fc8bab6",
   "metadata": {},
   "outputs": [],
   "source": [
    "import pandas as pd\n",
    "import geopandas as gpd\n",
    "import requests\n",
    "import json\n",
    "from IPython.display import display \n",
    "from bs4 import BeautifulSoup\n",
    "from selenium import webdriver\n",
    "from selenium.webdriver.chrome.service import Service\n",
    "from selenium.webdriver.common.by import By"
   ]
  },
  {
   "cell_type": "code",
   "execution_count": null,
   "id": "6f2ebb82-bced-4df2-b5dc-480b57c7e72c",
   "metadata": {},
   "outputs": [
    {
     "name": "stdout",
     "output_type": "stream",
     "text": [
      "Collecting selenium\n",
      "  Downloading selenium-4.9.0-py3-none-any.whl (6.5 MB)\n",
      "\u001b[2K     \u001b[90m━━━━━━━━━━━━━━━━━━━━━━━━━━━━━━━━━━━━━━━━\u001b[0m \u001b[32m6.5/6.5 MB\u001b[0m \u001b[31m3.9 MB/s\u001b[0m eta \u001b[36m0:00:00\u001b[0m00:01\u001b[0m00:01\u001b[0mm\n",
      "\u001b[?25hCollecting trio~=0.17\n",
      "  Downloading trio-0.22.0-py3-none-any.whl (384 kB)\n",
      "\u001b[2K     \u001b[90m━━━━━━━━━━━━━━━━━━━━━━━━━━━━━━━━━━━━━━\u001b[0m \u001b[32m384.9/384.9 kB\u001b[0m \u001b[31m23.4 MB/s\u001b[0m eta \u001b[36m0:00:00\u001b[0m\n",
      "\u001b[?25hRequirement already satisfied: urllib3[socks]~=1.26 in /Users/chaithra/opt/anaconda3/envs/uds/lib/python3.10/site-packages (from selenium) (1.26.15)\n",
      "Requirement already satisfied: certifi>=2021.10.8 in /Users/chaithra/opt/anaconda3/envs/uds/lib/python3.10/site-packages (from selenium) (2022.12.7)\n",
      "Collecting trio-websocket~=0.9\n",
      "  Downloading trio_websocket-0.10.2-py3-none-any.whl (17 kB)\n",
      "Requirement already satisfied: sniffio in /Users/chaithra/opt/anaconda3/envs/uds/lib/python3.10/site-packages (from trio~=0.17->selenium) (1.3.0)\n",
      "Collecting outcome\n",
      "  Downloading outcome-1.2.0-py2.py3-none-any.whl (9.7 kB)\n",
      "Requirement already satisfied: attrs>=19.2.0 in /Users/chaithra/opt/anaconda3/envs/uds/lib/python3.10/site-packages (from trio~=0.17->selenium) (22.2.0)\n",
      "Collecting sortedcontainers\n",
      "  Downloading sortedcontainers-2.4.0-py2.py3-none-any.whl (29 kB)\n",
      "Collecting async-generator>=1.9\n",
      "  Downloading async_generator-1.10-py3-none-any.whl (18 kB)\n",
      "Requirement already satisfied: idna in /Users/chaithra/opt/anaconda3/envs/uds/lib/python3.10/site-packages (from trio~=0.17->selenium) (3.4)\n",
      "Collecting exceptiongroup>=1.0.0rc9\n",
      "  Downloading exceptiongroup-1.1.1-py3-none-any.whl (14 kB)\n",
      "Collecting wsproto>=0.14\n",
      "  Downloading wsproto-1.2.0-py3-none-any.whl (24 kB)\n",
      "Requirement already satisfied: PySocks!=1.5.7,<2.0,>=1.5.6 in /Users/chaithra/opt/anaconda3/envs/uds/lib/python3.10/site-packages (from urllib3[socks]~=1.26->selenium) (1.7.1)\n",
      "Collecting h11<1,>=0.9.0\n",
      "  Downloading h11-0.14.0-py3-none-any.whl (58 kB)\n",
      "\u001b[2K     \u001b[90m━━━━━━━━━━━━━━━━━━━━━━━━━━━━━━━━━━━━━━━━\u001b[0m \u001b[32m58.3/58.3 kB\u001b[0m \u001b[31m7.3 MB/s\u001b[0m eta \u001b[36m0:00:00\u001b[0m\n",
      "\u001b[?25hInstalling collected packages: sortedcontainers, outcome, h11, exceptiongroup, async-generator, wsproto, trio, trio-websocket, selenium\n",
      "Successfully installed async-generator-1.10 exceptiongroup-1.1.1 h11-0.14.0 outcome-1.2.0 selenium-4.9.0 sortedcontainers-2.4.0 trio-0.22.0 trio-websocket-0.10.2 wsproto-1.2.0\n",
      "Note: you may need to restart the kernel to use updated packages.\n"
     ]
    }
   ],
   "source": [
    "#pip install selenium"
   ]
  },
  {
   "cell_type": "code",
   "execution_count": 34,
   "id": "daca5cec-90c4-43be-8bed-f75db5f0b00a",
   "metadata": {},
   "outputs": [],
   "source": [
    "driver = webdriver.Safari()\n",
    "url = \"https://sfgov.maps.arcgis.com/apps/mapviewer/index.html?webmap=b8b3a13ed26c4cb1aa10544ade0ea6a2\"\n",
    "driver.get(url)"
   ]
  },
  {
   "cell_type": "code",
   "execution_count": 35,
   "id": "64284472-dbaf-4b81-b678-ac290658684b",
   "metadata": {},
   "outputs": [],
   "source": [
    "elements=driver.find_element(By.ID, 'layers')\n",
    "elements.click()\n"
   ]
  },
  {
   "cell_type": "code",
   "execution_count": 42,
   "id": "46b4b6aa-2846-471d-bc8a-afee96d1c5fc",
   "metadata": {},
   "outputs": [],
   "source": [
    "elements=driver.find_elements(By.CLASS_NAME, 'esri-icon-handle-horizontal')\n",
    "elements[1].click()\n"
   ]
  },
  {
   "cell_type": "code",
   "execution_count": 47,
   "id": "a79dca2a-6c86-451b-8947-71f355a89fb6",
   "metadata": {},
   "outputs": [
    {
     "data": {
      "text/plain": [
       "[<selenium.webdriver.remote.webelement.WebElement (session=\"3351B782-2030-4778-BF39-5AE21A1C5A13\", element=\"node-B5A21FFC-B874-4A66-95BA-32BB29A922C1\")>,\n",
       " <selenium.webdriver.remote.webelement.WebElement (session=\"3351B782-2030-4778-BF39-5AE21A1C5A13\", element=\"node-E2D26891-03E8-45C0-9AE5-F31D5EF7D26A\")>,\n",
       " <selenium.webdriver.remote.webelement.WebElement (session=\"3351B782-2030-4778-BF39-5AE21A1C5A13\", element=\"node-E355E071-6254-471B-A25A-BF37280F8AD0\")>,\n",
       " <selenium.webdriver.remote.webelement.WebElement (session=\"3351B782-2030-4778-BF39-5AE21A1C5A13\", element=\"node-F596432C-8E6E-439F-9501-D464B88B8ADB\")>,\n",
       " <selenium.webdriver.remote.webelement.WebElement (session=\"3351B782-2030-4778-BF39-5AE21A1C5A13\", element=\"node-A2881DC1-024C-4ACF-9738-81043962C4AC\")>,\n",
       " <selenium.webdriver.remote.webelement.WebElement (session=\"3351B782-2030-4778-BF39-5AE21A1C5A13\", element=\"node-9939FD5A-3E0E-44BB-90D3-2F6BDCABBCF0\")>]"
      ]
     },
     "execution_count": 47,
     "metadata": {},
     "output_type": "execute_result"
    }
   ],
   "source": [
    "element = driver.find_elements(By.CLASS_NAME, 'esri-layer-list__item-actions-list')\n",
    "element\n",
    "\n"
   ]
  },
  {
   "cell_type": "code",
   "execution_count": 37,
   "id": "8ea4d8c3-ae6b-4b0f-bdfb-2f11719a75b5",
   "metadata": {},
   "outputs": [
    {
     "ename": "AttributeError",
     "evalue": "'list' object has no attribute 'click'",
     "output_type": "error",
     "traceback": [
      "\u001b[0;31m---------------------------------------------------------------------------\u001b[0m",
      "\u001b[0;31mAttributeError\u001b[0m                            Traceback (most recent call last)",
      "Cell \u001b[0;32mIn[39], line 2\u001b[0m\n\u001b[1;32m      1\u001b[0m elements\u001b[38;5;241m=\u001b[39mdriver\u001b[38;5;241m.\u001b[39mfind_elements(By\u001b[38;5;241m.\u001b[39mXPATH, \u001b[38;5;124m'\u001b[39m\u001b[38;5;124m//*[@id=\u001b[39m\u001b[38;5;124m\"\u001b[39m\u001b[38;5;124m187f7f776e9-widget-34_187f7f77692-object-39_actions\u001b[39m\u001b[38;5;124m\"\u001b[39m\u001b[38;5;124m]/ul[1]/li[3]\u001b[39m\u001b[38;5;124m'\u001b[39m)\n\u001b[0;32m----> 2\u001b[0m \u001b[43melements\u001b[49m\u001b[38;5;241;43m.\u001b[39;49m\u001b[43mclick\u001b[49m()                    \n",
      "\u001b[0;31mAttributeError\u001b[0m: 'list' object has no attribute 'click'"
     ]
    }
   ],
   "source": [
    "wait = WebDriverWait(driver, 20)  # Set the timeout to 20 seconds\n",
    "\n",
    "element = wait.until(EC.element_to_be_clickable((By.ID, 'element_id')))\n",
    "element.click()\n",
    "\n",
    "elements=driver.find_elements(By.XPATH, '//*[@id=\"187f7f776e9-widget-34_187f7f77692-object-39_actions\"]/ul[1]/li[3]')\n",
    "elements                         "
   ]
  },
  {
   "cell_type": "markdown",
   "id": "c6ccda73-3ed2-44eb-bf6d-166a11ce058d",
   "metadata": {},
   "source": [
    "elemnts= driver.find_elements(By.CLASS_NAME, \"calcite-shell-container\")\n",
    "\n",
    "#click layers\n",
    "# <calcite-action id=\"layers\" aria-expanded=\"false\" class=\"js-action\" appearance=\"solid\" scale=\"m\" text-enabled=\"\" calcite-hydrated=\"\"></calcite-action>\n",
    "#aria-controls=\"187f26478ce-widget-33_187f2647855-object-39_actions\"\n",
    "class=\"esri-icon-handle-horizontal\"\n",
    "# click on muniforward corridoors\n",
    "# aria-labelledby=\"187f26478ce-widget-33_187f2647855-object-39__title\"\n",
    "\n",
    "\n",
    "\n",
    "# title=\"Show table\""
   ]
  },
  {
   "cell_type": "code",
   "execution_count": 46,
   "id": "2fb4ee12-aa80-4780-8f95-c7f69feeefe7",
   "metadata": {},
   "outputs": [
    {
     "ename": "AttributeError",
     "evalue": "'list' object has no attribute 'click'",
     "output_type": "error",
     "traceback": [
      "\u001b[0;31m---------------------------------------------------------------------------\u001b[0m",
      "\u001b[0;31mAttributeError\u001b[0m                            Traceback (most recent call last)",
      "Cell \u001b[0;32mIn[46], line 1\u001b[0m\n\u001b[0;32m----> 1\u001b[0m \u001b[43melemnts\u001b[49m\u001b[38;5;241;43m.\u001b[39;49m\u001b[43mclick\u001b[49m()\n",
      "\u001b[0;31mAttributeError\u001b[0m: 'list' object has no attribute 'click'"
     ]
    }
   ],
   "source": [
    "elemnts."
   ]
  },
  {
   "cell_type": "code",
   "execution_count": 39,
   "id": "29392531-be3f-4f8d-bb07-2024e35467b2",
   "metadata": {},
   "outputs": [],
   "source": [
    "from selenium.webdriver.support.ui import WebDriverWait\n",
    "from selenium.webdriver.support import expected_conditions as EC\n",
    "\n",
    "# Wait for the desired element to be present on the page\n",
    "\n"
   ]
  },
  {
   "cell_type": "code",
   "execution_count": 41,
   "id": "cf014a1c-0d73-4828-a11d-221366c28210",
   "metadata": {},
   "outputs": [
    {
     "ename": "InvalidSessionIdException",
     "evalue": "Message: \n",
     "output_type": "error",
     "traceback": [
      "\u001b[0;31m---------------------------------------------------------------------------\u001b[0m",
      "\u001b[0;31mInvalidSessionIdException\u001b[0m                 Traceback (most recent call last)",
      "Cell \u001b[0;32mIn[41], line 2\u001b[0m\n\u001b[1;32m      1\u001b[0m wait \u001b[38;5;241m=\u001b[39m WebDriverWait(driver, \u001b[38;5;241m10\u001b[39m)  \u001b[38;5;66;03m# Maximum wait time of 10 seconds\u001b[39;00m\n\u001b[0;32m----> 2\u001b[0m element \u001b[38;5;241m=\u001b[39m \u001b[43mwait\u001b[49m\u001b[38;5;241;43m.\u001b[39;49m\u001b[43muntil\u001b[49m\u001b[43m(\u001b[49m\u001b[43mEC\u001b[49m\u001b[38;5;241;43m.\u001b[39;49m\u001b[43mpresence_of_all_elements_located\u001b[49m\u001b[43m(\u001b[49m\u001b[43m(\u001b[49m\u001b[43mBy\u001b[49m\u001b[38;5;241;43m.\u001b[39;49m\u001b[43mCLASS_NAME\u001b[49m\u001b[43m,\u001b[49m\u001b[43m \u001b[49m\u001b[38;5;124;43m'\u001b[39;49m\u001b[38;5;124;43mesri-grid__content\u001b[39;49m\u001b[38;5;124;43m'\u001b[39;49m\u001b[43m)\u001b[49m\u001b[43m)\u001b[49m\u001b[43m)\u001b[49m\n",
      "File \u001b[0;32m~/opt/anaconda3/envs/uds/lib/python3.10/site-packages/selenium/webdriver/support/wait.py:86\u001b[0m, in \u001b[0;36mWebDriverWait.until\u001b[0;34m(self, method, message)\u001b[0m\n\u001b[1;32m     84\u001b[0m \u001b[38;5;28;01mwhile\u001b[39;00m \u001b[38;5;28;01mTrue\u001b[39;00m:\n\u001b[1;32m     85\u001b[0m     \u001b[38;5;28;01mtry\u001b[39;00m:\n\u001b[0;32m---> 86\u001b[0m         value \u001b[38;5;241m=\u001b[39m \u001b[43mmethod\u001b[49m\u001b[43m(\u001b[49m\u001b[38;5;28;43mself\u001b[39;49m\u001b[38;5;241;43m.\u001b[39;49m\u001b[43m_driver\u001b[49m\u001b[43m)\u001b[49m\n\u001b[1;32m     87\u001b[0m         \u001b[38;5;28;01mif\u001b[39;00m value:\n\u001b[1;32m     88\u001b[0m             \u001b[38;5;28;01mreturn\u001b[39;00m value\n",
      "File \u001b[0;32m~/opt/anaconda3/envs/uds/lib/python3.10/site-packages/selenium/webdriver/support/expected_conditions.py:174\u001b[0m, in \u001b[0;36mpresence_of_all_elements_located.<locals>._predicate\u001b[0;34m(driver)\u001b[0m\n\u001b[1;32m    173\u001b[0m \u001b[38;5;28;01mdef\u001b[39;00m \u001b[38;5;21m_predicate\u001b[39m(driver):\n\u001b[0;32m--> 174\u001b[0m     \u001b[38;5;28;01mreturn\u001b[39;00m \u001b[43mdriver\u001b[49m\u001b[38;5;241;43m.\u001b[39;49m\u001b[43mfind_elements\u001b[49m\u001b[43m(\u001b[49m\u001b[38;5;241;43m*\u001b[39;49m\u001b[43mlocator\u001b[49m\u001b[43m)\u001b[49m\n",
      "File \u001b[0;32m~/opt/anaconda3/envs/uds/lib/python3.10/site-packages/selenium/webdriver/remote/webdriver.py:861\u001b[0m, in \u001b[0;36mWebDriver.find_elements\u001b[0;34m(self, by, value)\u001b[0m\n\u001b[1;32m    857\u001b[0m     value \u001b[38;5;241m=\u001b[39m \u001b[38;5;124mf\u001b[39m\u001b[38;5;124m'\u001b[39m\u001b[38;5;124m[name=\u001b[39m\u001b[38;5;124m\"\u001b[39m\u001b[38;5;132;01m{\u001b[39;00mvalue\u001b[38;5;132;01m}\u001b[39;00m\u001b[38;5;124m\"\u001b[39m\u001b[38;5;124m]\u001b[39m\u001b[38;5;124m'\u001b[39m\n\u001b[1;32m    859\u001b[0m \u001b[38;5;66;03m# Return empty list if driver returns null\u001b[39;00m\n\u001b[1;32m    860\u001b[0m \u001b[38;5;66;03m# See https://github.com/SeleniumHQ/selenium/issues/4555\u001b[39;00m\n\u001b[0;32m--> 861\u001b[0m \u001b[38;5;28;01mreturn\u001b[39;00m \u001b[38;5;28;43mself\u001b[39;49m\u001b[38;5;241;43m.\u001b[39;49m\u001b[43mexecute\u001b[49m\u001b[43m(\u001b[49m\u001b[43mCommand\u001b[49m\u001b[38;5;241;43m.\u001b[39;49m\u001b[43mFIND_ELEMENTS\u001b[49m\u001b[43m,\u001b[49m\u001b[43m \u001b[49m\u001b[43m{\u001b[49m\u001b[38;5;124;43m\"\u001b[39;49m\u001b[38;5;124;43musing\u001b[39;49m\u001b[38;5;124;43m\"\u001b[39;49m\u001b[43m:\u001b[49m\u001b[43m \u001b[49m\u001b[43mby\u001b[49m\u001b[43m,\u001b[49m\u001b[43m \u001b[49m\u001b[38;5;124;43m\"\u001b[39;49m\u001b[38;5;124;43mvalue\u001b[39;49m\u001b[38;5;124;43m\"\u001b[39;49m\u001b[43m:\u001b[49m\u001b[43m \u001b[49m\u001b[43mvalue\u001b[49m\u001b[43m}\u001b[49m\u001b[43m)\u001b[49m[\u001b[38;5;124m\"\u001b[39m\u001b[38;5;124mvalue\u001b[39m\u001b[38;5;124m\"\u001b[39m] \u001b[38;5;129;01mor\u001b[39;00m []\n",
      "File \u001b[0;32m~/opt/anaconda3/envs/uds/lib/python3.10/site-packages/selenium/webdriver/remote/webdriver.py:440\u001b[0m, in \u001b[0;36mWebDriver.execute\u001b[0;34m(self, driver_command, params)\u001b[0m\n\u001b[1;32m    438\u001b[0m response \u001b[38;5;241m=\u001b[39m \u001b[38;5;28mself\u001b[39m\u001b[38;5;241m.\u001b[39mcommand_executor\u001b[38;5;241m.\u001b[39mexecute(driver_command, params)\n\u001b[1;32m    439\u001b[0m \u001b[38;5;28;01mif\u001b[39;00m response:\n\u001b[0;32m--> 440\u001b[0m     \u001b[38;5;28;43mself\u001b[39;49m\u001b[38;5;241;43m.\u001b[39;49m\u001b[43merror_handler\u001b[49m\u001b[38;5;241;43m.\u001b[39;49m\u001b[43mcheck_response\u001b[49m\u001b[43m(\u001b[49m\u001b[43mresponse\u001b[49m\u001b[43m)\u001b[49m\n\u001b[1;32m    441\u001b[0m     response[\u001b[38;5;124m\"\u001b[39m\u001b[38;5;124mvalue\u001b[39m\u001b[38;5;124m\"\u001b[39m] \u001b[38;5;241m=\u001b[39m \u001b[38;5;28mself\u001b[39m\u001b[38;5;241m.\u001b[39m_unwrap_value(response\u001b[38;5;241m.\u001b[39mget(\u001b[38;5;124m\"\u001b[39m\u001b[38;5;124mvalue\u001b[39m\u001b[38;5;124m\"\u001b[39m, \u001b[38;5;28;01mNone\u001b[39;00m))\n\u001b[1;32m    442\u001b[0m     \u001b[38;5;28;01mreturn\u001b[39;00m response\n",
      "File \u001b[0;32m~/opt/anaconda3/envs/uds/lib/python3.10/site-packages/selenium/webdriver/remote/errorhandler.py:245\u001b[0m, in \u001b[0;36mErrorHandler.check_response\u001b[0;34m(self, response)\u001b[0m\n\u001b[1;32m    243\u001b[0m         alert_text \u001b[38;5;241m=\u001b[39m value[\u001b[38;5;124m\"\u001b[39m\u001b[38;5;124malert\u001b[39m\u001b[38;5;124m\"\u001b[39m]\u001b[38;5;241m.\u001b[39mget(\u001b[38;5;124m\"\u001b[39m\u001b[38;5;124mtext\u001b[39m\u001b[38;5;124m\"\u001b[39m)\n\u001b[1;32m    244\u001b[0m     \u001b[38;5;28;01mraise\u001b[39;00m exception_class(message, screen, stacktrace, alert_text)  \u001b[38;5;66;03m# type: ignore[call-arg]  # mypy is not smart enough here\u001b[39;00m\n\u001b[0;32m--> 245\u001b[0m \u001b[38;5;28;01mraise\u001b[39;00m exception_class(message, screen, stacktrace)\n",
      "\u001b[0;31mInvalidSessionIdException\u001b[0m: Message: \n"
     ]
    }
   ],
   "source": [
    "wait = WebDriverWait(driver, 10)  # Maximum wait time of 10 seconds\n",
    "element = wait.until(EC.presence_of_all_elements_located((By.CLASS_NAME, 'esri-grid__content')))\n"
   ]
  },
  {
   "cell_type": "code",
   "execution_count": 35,
   "id": "4d696060-b16b-47f3-b2ba-20709520cb10",
   "metadata": {},
   "outputs": [
    {
     "ename": "InvalidSessionIdException",
     "evalue": "Message: \n",
     "output_type": "error",
     "traceback": [
      "\u001b[0;31m---------------------------------------------------------------------------\u001b[0m",
      "\u001b[0;31mInvalidSessionIdException\u001b[0m                 Traceback (most recent call last)",
      "Cell \u001b[0;32mIn[35], line 1\u001b[0m\n\u001b[0;32m----> 1\u001b[0m element \u001b[38;5;241m=\u001b[39m \u001b[43mdriver\u001b[49m\u001b[38;5;241;43m.\u001b[39;49m\u001b[43mfind_element\u001b[49m\u001b[43m(\u001b[49m\u001b[43mBy\u001b[49m\u001b[38;5;241;43m.\u001b[39;49m\u001b[43mCLASS_NAME\u001b[49m\u001b[43m,\u001b[49m\u001b[43m \u001b[49m\u001b[38;5;124;43m'\u001b[39;49m\u001b[38;5;124;43mesri-grid__content\u001b[39;49m\u001b[38;5;124;43m'\u001b[39;49m\u001b[43m)\u001b[49m\n",
      "File \u001b[0;32m~/opt/anaconda3/envs/uds/lib/python3.10/site-packages/selenium/webdriver/remote/webdriver.py:831\u001b[0m, in \u001b[0;36mWebDriver.find_element\u001b[0;34m(self, by, value)\u001b[0m\n\u001b[1;32m    828\u001b[0m     by \u001b[38;5;241m=\u001b[39m By\u001b[38;5;241m.\u001b[39mCSS_SELECTOR\n\u001b[1;32m    829\u001b[0m     value \u001b[38;5;241m=\u001b[39m \u001b[38;5;124mf\u001b[39m\u001b[38;5;124m'\u001b[39m\u001b[38;5;124m[name=\u001b[39m\u001b[38;5;124m\"\u001b[39m\u001b[38;5;132;01m{\u001b[39;00mvalue\u001b[38;5;132;01m}\u001b[39;00m\u001b[38;5;124m\"\u001b[39m\u001b[38;5;124m]\u001b[39m\u001b[38;5;124m'\u001b[39m\n\u001b[0;32m--> 831\u001b[0m \u001b[38;5;28;01mreturn\u001b[39;00m \u001b[38;5;28;43mself\u001b[39;49m\u001b[38;5;241;43m.\u001b[39;49m\u001b[43mexecute\u001b[49m\u001b[43m(\u001b[49m\u001b[43mCommand\u001b[49m\u001b[38;5;241;43m.\u001b[39;49m\u001b[43mFIND_ELEMENT\u001b[49m\u001b[43m,\u001b[49m\u001b[43m \u001b[49m\u001b[43m{\u001b[49m\u001b[38;5;124;43m\"\u001b[39;49m\u001b[38;5;124;43musing\u001b[39;49m\u001b[38;5;124;43m\"\u001b[39;49m\u001b[43m:\u001b[49m\u001b[43m \u001b[49m\u001b[43mby\u001b[49m\u001b[43m,\u001b[49m\u001b[43m \u001b[49m\u001b[38;5;124;43m\"\u001b[39;49m\u001b[38;5;124;43mvalue\u001b[39;49m\u001b[38;5;124;43m\"\u001b[39;49m\u001b[43m:\u001b[49m\u001b[43m \u001b[49m\u001b[43mvalue\u001b[49m\u001b[43m}\u001b[49m\u001b[43m)\u001b[49m[\u001b[38;5;124m\"\u001b[39m\u001b[38;5;124mvalue\u001b[39m\u001b[38;5;124m\"\u001b[39m]\n",
      "File \u001b[0;32m~/opt/anaconda3/envs/uds/lib/python3.10/site-packages/selenium/webdriver/remote/webdriver.py:440\u001b[0m, in \u001b[0;36mWebDriver.execute\u001b[0;34m(self, driver_command, params)\u001b[0m\n\u001b[1;32m    438\u001b[0m response \u001b[38;5;241m=\u001b[39m \u001b[38;5;28mself\u001b[39m\u001b[38;5;241m.\u001b[39mcommand_executor\u001b[38;5;241m.\u001b[39mexecute(driver_command, params)\n\u001b[1;32m    439\u001b[0m \u001b[38;5;28;01mif\u001b[39;00m response:\n\u001b[0;32m--> 440\u001b[0m     \u001b[38;5;28;43mself\u001b[39;49m\u001b[38;5;241;43m.\u001b[39;49m\u001b[43merror_handler\u001b[49m\u001b[38;5;241;43m.\u001b[39;49m\u001b[43mcheck_response\u001b[49m\u001b[43m(\u001b[49m\u001b[43mresponse\u001b[49m\u001b[43m)\u001b[49m\n\u001b[1;32m    441\u001b[0m     response[\u001b[38;5;124m\"\u001b[39m\u001b[38;5;124mvalue\u001b[39m\u001b[38;5;124m\"\u001b[39m] \u001b[38;5;241m=\u001b[39m \u001b[38;5;28mself\u001b[39m\u001b[38;5;241m.\u001b[39m_unwrap_value(response\u001b[38;5;241m.\u001b[39mget(\u001b[38;5;124m\"\u001b[39m\u001b[38;5;124mvalue\u001b[39m\u001b[38;5;124m\"\u001b[39m, \u001b[38;5;28;01mNone\u001b[39;00m))\n\u001b[1;32m    442\u001b[0m     \u001b[38;5;28;01mreturn\u001b[39;00m response\n",
      "File \u001b[0;32m~/opt/anaconda3/envs/uds/lib/python3.10/site-packages/selenium/webdriver/remote/errorhandler.py:245\u001b[0m, in \u001b[0;36mErrorHandler.check_response\u001b[0;34m(self, response)\u001b[0m\n\u001b[1;32m    243\u001b[0m         alert_text \u001b[38;5;241m=\u001b[39m value[\u001b[38;5;124m\"\u001b[39m\u001b[38;5;124malert\u001b[39m\u001b[38;5;124m\"\u001b[39m]\u001b[38;5;241m.\u001b[39mget(\u001b[38;5;124m\"\u001b[39m\u001b[38;5;124mtext\u001b[39m\u001b[38;5;124m\"\u001b[39m)\n\u001b[1;32m    244\u001b[0m     \u001b[38;5;28;01mraise\u001b[39;00m exception_class(message, screen, stacktrace, alert_text)  \u001b[38;5;66;03m# type: ignore[call-arg]  # mypy is not smart enough here\u001b[39;00m\n\u001b[0;32m--> 245\u001b[0m \u001b[38;5;28;01mraise\u001b[39;00m exception_class(message, screen, stacktrace)\n",
      "\u001b[0;31mInvalidSessionIdException\u001b[0m: Message: \n"
     ]
    }
   ],
   "source": [
    "element = driver.find_elements"
   ]
  },
  {
   "cell_type": "code",
   "execution_count": 23,
   "id": "72a9b45a-4b5b-4452-aab6-c66db76a9cd4",
   "metadata": {},
   "outputs": [
    {
     "ename": "TypeError",
     "evalue": "WebDriver.find_element() takes from 1 to 3 positional arguments but 13 were given",
     "output_type": "error",
     "traceback": [
      "\u001b[0;31m---------------------------------------------------------------------------\u001b[0m",
      "\u001b[0;31mTypeError\u001b[0m                                 Traceback (most recent call last)",
      "Cell \u001b[0;32mIn[23], line 2\u001b[0m\n\u001b[1;32m      1\u001b[0m wait \u001b[38;5;241m=\u001b[39m WebDriverWait(driver, \u001b[38;5;241m10\u001b[39m)  \u001b[38;5;66;03m# Maximum wait time of 10 seconds\u001b[39;00m\n\u001b[0;32m----> 2\u001b[0m element \u001b[38;5;241m=\u001b[39m \u001b[43mwait\u001b[49m\u001b[38;5;241;43m.\u001b[39;49m\u001b[43muntil\u001b[49m\u001b[43m(\u001b[49m\u001b[43mEC\u001b[49m\u001b[38;5;241;43m.\u001b[39;49m\u001b[43mpresence_of_element_located\u001b[49m\u001b[43m(\u001b[49m\u001b[43m(\u001b[49m\u001b[38;5;124;43m'\u001b[39;49m\u001b[38;5;124;43marcgis-table\u001b[39;49m\u001b[38;5;124;43m'\u001b[39;49m\u001b[43m)\u001b[49m\u001b[43m)\u001b[49m\u001b[43m)\u001b[49m\n",
      "File \u001b[0;32m~/opt/anaconda3/envs/uds/lib/python3.10/site-packages/selenium/webdriver/support/wait.py:86\u001b[0m, in \u001b[0;36mWebDriverWait.until\u001b[0;34m(self, method, message)\u001b[0m\n\u001b[1;32m     84\u001b[0m \u001b[38;5;28;01mwhile\u001b[39;00m \u001b[38;5;28;01mTrue\u001b[39;00m:\n\u001b[1;32m     85\u001b[0m     \u001b[38;5;28;01mtry\u001b[39;00m:\n\u001b[0;32m---> 86\u001b[0m         value \u001b[38;5;241m=\u001b[39m \u001b[43mmethod\u001b[49m\u001b[43m(\u001b[49m\u001b[38;5;28;43mself\u001b[39;49m\u001b[38;5;241;43m.\u001b[39;49m\u001b[43m_driver\u001b[49m\u001b[43m)\u001b[49m\n\u001b[1;32m     87\u001b[0m         \u001b[38;5;28;01mif\u001b[39;00m value:\n\u001b[1;32m     88\u001b[0m             \u001b[38;5;28;01mreturn\u001b[39;00m value\n",
      "File \u001b[0;32m~/opt/anaconda3/envs/uds/lib/python3.10/site-packages/selenium/webdriver/support/expected_conditions.py:69\u001b[0m, in \u001b[0;36mpresence_of_element_located.<locals>._predicate\u001b[0;34m(driver)\u001b[0m\n\u001b[1;32m     68\u001b[0m \u001b[38;5;28;01mdef\u001b[39;00m \u001b[38;5;21m_predicate\u001b[39m(driver):\n\u001b[0;32m---> 69\u001b[0m     \u001b[38;5;28;01mreturn\u001b[39;00m \u001b[43mdriver\u001b[49m\u001b[38;5;241;43m.\u001b[39;49m\u001b[43mfind_element\u001b[49m\u001b[43m(\u001b[49m\u001b[38;5;241;43m*\u001b[39;49m\u001b[43mlocator\u001b[49m\u001b[43m)\u001b[49m\n",
      "\u001b[0;31mTypeError\u001b[0m: WebDriver.find_element() takes from 1 to 3 positional arguments but 13 were given"
     ]
    }
   ],
   "source": [
    "wait = WebDriverWait(driver, 10)  # Maximum wait time of 10 seconds\n",
    "element = wait.until(EC.presence_of_element_located(('arcgis-table')))\n"
   ]
  },
  {
   "cell_type": "code",
   "execution_count": 11,
   "id": "661dbee5-684a-4fbc-9358-31c32fdcbf1e",
   "metadata": {},
   "outputs": [
    {
     "data": {
      "text/plain": [
       "<!DOCTYPE html>\n",
       "\n",
       "<html>\n",
       "<head>\n",
       "<meta charset=\"utf-8\"/>\n",
       "<meta content=\"width=device-width, initial-scale=1.0, minimum-scale=1.0, maximum-scale=5.0\" name=\"viewport\"/>\n",
       "<link href=\"./js/arcgis-components/dist/ItemBrowser/mapviewer.css\" media=\"none\" onload=\"if(media!='all')media='all'\" rel=\"stylesheet\"/>\n",
       "<noscript> <link href=\"./js/arcgis-components/dist/ItemBrowser/mapviewer.css\" rel=\"stylesheet\"/></noscript>\n",
       "<link href=\"./js/arcgis-components/dist/ItemBrowser/index.css\" media=\"none\" onload=\"if(media!='all')media='all'\" rel=\"stylesheet\"/>\n",
       "<noscript> <link href=\"./js/arcgis-components/dist/ItemBrowser/index.css\" rel=\"stylesheet\"/></noscript>\n",
       "<link href=\"./js/app/widgets/panels/css/MapMaker.css\" media=\"none\" onload=\"if(media!='all')media='all'\" rel=\"stylesheet\"/>\n",
       "<noscript> <link as=\"style\" href=\"./js/app/widgets/panels/css/MapMaker.css\" rel=\"prefetch\"/></noscript>\n",
       "<link href=\"./node_modules/@arcgis/arcade-components/dist/arcgis-arcade-components/arcgis-arcade-components.css\" media=\"none\" onload=\"if(media!='all')media='all'\" rel=\"stylesheet\"/>\n",
       "<noscript>\n",
       "<link as=\"style\" href=\"./node_modules/@arcgis/arcade-components/dist/arcgis-arcade-components/arcgis-arcade-components.css\" rel=\"prefetch\"/>\n",
       "</noscript>\n",
       "<link href=\"./node_modules/@arcgis/app-components/dist/arcgis-app/arcgis-app.css\" media=\"none\" onload=\"if(media!='all')media='all'\" rel=\"stylesheet\"/>\n",
       "<noscript>\n",
       "<link as=\"style\" href=\"./node_modules/@arcgis/app-components/dist/arcgis-app/arcgis-app.css\" rel=\"prefetch\"/>\n",
       "</noscript>\n",
       "<script crossorigin=\"use-credentials\" defer=\"\" src=\"./node_modules/@esri/calcite-components/dist/calcite/calcite.esm.js\" type=\"module\"></script>\n",
       "<link href=\"./node_modules/@esri/calcite-components/dist/calcite/calcite.css\" media=\"none\" onload=\"if(media!='all')media='all'\" rel=\"stylesheet\"/>\n",
       "<noscript>\n",
       "<link as=\"style\" href=\"./node_modules/@esri/calcite-components/dist/calcite/calcite.css\" rel=\"prefetch\"/>\n",
       "</noscript>\n",
       "<link href=\"./node_modules/analysis-components/dist/analysis-components/analysis-components.css\" rel=\"stylesheet\"/>\n",
       "<link href=\"./node_modules/analysis-tool-app/dist/analysis-tool-app/analysis-tool-app.css\" rel=\"stylesheet\"/>\n",
       "<link href=\"./node_modules/analysis-studio-components/dist/analysis-studio-components/analysis-studio-components.css\" rel=\"stylesheet\"/>\n",
       "<script crossorigin=\"use-credentials\" defer=\"\" src=\"./node_modules/@arcgis/arcade-components/dist/arcgis-arcade-components/arcgis-arcade-components.esm.js\" type=\"module\"></script>\n",
       "<script crossorigin=\"use-credentials\" defer=\"\" src=\"./node_modules/@arcgis/app-components/dist/arcgis-app/arcgis-app.esm.js\" type=\"module\"></script>\n",
       "<link href=\"./node_modules/@arcgis/charts-config-components/dist/arcgis-charts-config-components/arcgis-charts-config-components.css\" rel=\"stylesheet\"/>\n",
       "<script crossorigin=\"use-credentials\" defer=\"\" src=\"./node_modules/@arcgis/charts-config-components/dist/arcgis-charts-config-components/arcgis-charts-config-components.esm.js\" type=\"module\"></script>\n",
       "<link href=\"./node_modules/@arcgis/charts-components/dist/arcgis-charts-components/arcgis-charts-components.css\" rel=\"stylesheet\"/>\n",
       "<script crossorigin=\"use-credentials\" defer=\"\" src=\"./node_modules/@arcgis/charts-components/dist/arcgis-charts-components/arcgis-charts-components.esm.js\" type=\"module\"></script>\n",
       "<link href=\"./node_modules/@arcgis/charts-app/dist/arcgis-charts-app/arcgis-charts-app.css\" rel=\"stylesheet\"/>\n",
       "<script crossorigin=\"use-credentials\" defer=\"\" src=\"./node_modules/@arcgis/charts-app/dist/arcgis-charts-app/arcgis-charts-app.esm.js\" type=\"module\"></script>\n",
       "<link href=\"./node_modules/@arcgis/geoenrichment-components/dist/geoenrichment-components/geoenrichment/themes/data-browser.css\" rel=\"stylesheet\"/>\n",
       "<script src=\"./node_modules/@arcgis/geoenrichment-components/dist/geoenrichment-components/geoenrichment-components.esm.js\" type=\"module\"></script>\n",
       "<!--[if IE]>\n",
       "      <style type=\"text/css\">\n",
       "        #ie-message {\n",
       "          display: block !important;\n",
       "        }\n",
       "        #ie-message {\n",
       "          display: block !important;\n",
       "        }\n",
       "      </style>\n",
       "    <![endif]-->\n",
       "<title class=\"js-page-title\">Map Viewer</title>\n",
       "</head>\n",
       "<body>\n",
       "<div id=\"ie-message\" style=\"display: none\">\n",
       "<div class=\"wrapper\">\n",
       "<div class=\"icon\">\n",
       "<svg class=\"svg\" fill=\"currentColor\" height=\"24\" viewbox=\"0 0 24 24\" width=\"24\" xmlns=\"http://www.w3.org/2000/svg\">\n",
       "<path d=\"M1.225 21.225A1.678 1.678 0 0 0 2.707 22H22.28a1.68 1.68 0 0 0 1.484-.775 1.608 1.608 0 0 0 .003-1.656L13.995 1.827a1.745 1.745 0 0 0-2.969 0l-9.8 17.742a1.603 1.603 0 0 0 0 1.656zm.859-1.143l9.82-17.773A.71.71 0 0 1 12.508 2a.73.73 0 0 1 .629.342l9.751 17.708a.626.626 0 0 1 .017.662.725.725 0 0 1-.626.288H2.708a.723.723 0 0 1-.623-.286.605.605 0 0 1-.001-.632zM13 15h-1V8h1zm-1.5 2.5a1 1 0 1 1 1 1 1.002 1.002 0 0 1-1-1z\"></path>\n",
       "</svg>\n",
       "</div>\n",
       "<div class=\"message\">\n",
       "          You are using a browser that is no longer supported. Please use the latest version of Google Chrome, Mozilla\n",
       "          Firefox, Apple Safari, or Microsoft Edge.\n",
       "        </div>\n",
       "</div>\n",
       "</div>\n",
       "<div class=\"calcite-shell-container\"></div>\n",
       "<script src=\"./js/config/dojo.js\"></script>\n",
       "<script src=\"./node_modules/dojo/dojo.js\"></script>\n",
       "<script type=\"text/javascript\">\n",
       "      require([\"app/main\"], function (main) {\n",
       "        main.default(\"viewer\");\n",
       "      });\n",
       "    </script>\n",
       "</body>\n",
       "</html>"
      ]
     },
     "execution_count": 11,
     "metadata": {},
     "output_type": "execute_result"
    }
   ],
   "source": [
    "soup"
   ]
  },
  {
   "cell_type": "code",
   "execution_count": 10,
   "id": "187aab7c-8411-4206-81d9-acb93d254b46",
   "metadata": {},
   "outputs": [
    {
     "ename": "AttributeError",
     "evalue": "'NoneType' object has no attribute 'head'",
     "output_type": "error",
     "traceback": [
      "\u001b[0;31m---------------------------------------------------------------------------\u001b[0m",
      "\u001b[0;31mAttributeError\u001b[0m                            Traceback (most recent call last)",
      "Cell \u001b[0;32mIn[10], line 1\u001b[0m\n\u001b[0;32m----> 1\u001b[0m \u001b[43mposts\u001b[49m\u001b[38;5;241;43m.\u001b[39;49m\u001b[43mhead\u001b[49m()\n",
      "\u001b[0;31mAttributeError\u001b[0m: 'NoneType' object has no attribute 'head'"
     ]
    }
   ],
   "source": [
    "posts.head()"
   ]
  },
  {
   "cell_type": "code",
   "execution_count": null,
   "id": "9765d4e3-dd53-45da-accd-9573787be1a3",
   "metadata": {},
   "outputs": [],
   "source": []
  }
 ],
 "metadata": {
  "kernelspec": {
   "display_name": "Python 3 (ipykernel)",
   "language": "python",
   "name": "python3"
  },
  "language_info": {
   "codemirror_mode": {
    "name": "ipython",
    "version": 3
   },
   "file_extension": ".py",
   "mimetype": "text/x-python",
   "name": "python",
   "nbconvert_exporter": "python",
   "pygments_lexer": "ipython3",
   "version": "3.10.10"
  }
 },
 "nbformat": 4,
 "nbformat_minor": 5
}
